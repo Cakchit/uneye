{
 "cells": [
  {
   "cell_type": "code",
   "execution_count": 2,
   "metadata": {},
   "outputs": [],
   "source": [
    "import ueye\n",
    "import numpy as np\n",
    "from matplotlib.pyplot import *\n",
    "import os\n",
    "from skimage.measure import label"
   ]
  },
  {
   "cell_type": "markdown",
   "metadata": {},
   "source": [
    "# EM algorithms \n",
    "adapted from Engbert et al.\n",
    "\n",
    "**Parameters to be tuned:**\n",
    "\n",
    "- lambda\n",
    "\n",
    "dataset 1: 4.4\n",
    "\n",
    "dataset 2: 5.5\n",
    "\n",
    "dataset 3: 4.0\n"
   ]
  },
  {
   "cell_type": "code",
   "execution_count": 7,
   "metadata": {
    "scrolled": true
   },
   "outputs": [
    {
     "name": "stdout",
     "output_type": "stream",
     "text": [
      "data/dataset1\n"
     ]
    },
    {
     "name": "stderr",
     "output_type": "stream",
     "text": [
      "/Library/Frameworks/Python.framework/Versions/3.6/lib/python3.6/site-packages/numpy/lib/function_base.py:4011: RuntimeWarning: Invalid value encountered in median\n",
      "  r = func(a, **kwargs)\n",
      "/Users/marieschmidt/Dropbox/ueye/ueye/functions.py:465: RuntimeWarning: invalid value encountered in greater\n",
      "  Sacc_out[i,:]=(np.divide(Vx[i,:],(lambda_param*np.sqrt(Eta_x[i])))**2+np.divide(Vy[i,:],(lambda_param*np.sqrt(Eta_y[i])))**2)>1\n"
     ]
    },
    {
     "name": "stdout",
     "output_type": "stream",
     "text": [
      "best lambda: 4.4\n",
      "best lambda: 4.4\n",
      "best lambda: 4.4\n",
      "best lambda: 4.4\n",
      "best lambda: 4.4\n",
      "best lambda: 4.4\n",
      "best lambda: 4.4\n",
      "best lambda: 4.4\n",
      "best lambda: 4.4\n",
      "best lambda: 4.4\n",
      "data/dataset2\n",
      "best lambda: 5.6\n",
      "best lambda: 5.2\n",
      "best lambda: 5.6\n",
      "best lambda: 5.4\n",
      "best lambda: 5.2\n",
      "best lambda: 5.4\n",
      "best lambda: 5.2\n",
      "best lambda: 5.6\n",
      "best lambda: 5.6\n",
      "best lambda: 5.4\n",
      "data/dataset3\n",
      "best lambda: 4.0\n",
      "best lambda: 4.0\n",
      "best lambda: 4.0\n",
      "best lambda: 4.0\n",
      "best lambda: 4.0\n",
      "best lambda: 4.0\n",
      "best lambda: 4.0\n",
      "best lambda: 4.0\n",
      "best lambda: 4.0\n",
      "best lambda: 4.0\n"
     ]
    }
   ],
   "source": [
    "# Cross Validation: take the cross validation set, split into 10folds. Use 90% for parameter tuning and 10 % to test.\n",
    "lambdas = np.arange(1,11,.2) #lambda candidates\n",
    "\n",
    "\n",
    "K = 10 #10fold cross validation\n",
    "Ntrain = [950,950,330]\n",
    "datasets = ['dataset1','dataset2','dataset3']\n",
    "Sampfreq=[1000,1000,500]\n",
    "min_sacc_dur = 6\n",
    "min_distance = [10,5,10]\n",
    "for i,dset in enumerate(datasets):\n",
    "    \n",
    "    ntrain = Ntrain[i]\n",
    "    min_sacc_dist = min_distance[i]\n",
    "    sampfreq = Sampfreq[i]\n",
    "    fac = 1000/sampfreq\n",
    "    datapath = '../data/' + dset\n",
    "    print(datapath)\n",
    "    X = np.loadtxt(datapath+'/'+dset+'_'+str(sampfreq)+'hz_X_train.csv',delimiter=',')\n",
    "    Y = np.loadtxt(datapath+'/'+dset+'_'+str(sampfreq)+'hz_Y_train.csv',delimiter=',')\n",
    "    L = np.loadtxt(datapath+'/'+dset+'_'+str(sampfreq)+'hz_Labels_train.csv',delimiter=',')\n",
    "    L = (L==1).astype(float)\n",
    "    # chose same subset as was used for network\n",
    "    np.random.seed(1)\n",
    "    randind = np.random.permutation(X.shape[0])\n",
    "    X = X[randind[:ntrain],:]\n",
    "    Y = Y[randind[:ntrain],:]\n",
    "    L = L[randind[:ntrain],:]\n",
    "\n",
    "    n_samples,n_time = X.shape\n",
    "    \n",
    "    np.random.seed(1)\n",
    "    n_test = int(n_samples/K)\n",
    "    Kappa = np.zeros(K)\n",
    "    F1 = np.zeros(K)\n",
    "    On = []\n",
    "    Off = []\n",
    "    indices = np.random.permutation(n_samples) #indices from training and test set\n",
    "    # CROSS VALIDATION\n",
    "    for i in range(K):\n",
    "        ind_train = indices.copy()\n",
    "        if i==K-1:\n",
    "            ind_train = np.array(np.delete(ind_train,range(n_test*i,n_samples)))\n",
    "            ind_test = indices[n_test*i:]\n",
    "        else:\n",
    "            ind_train = np.array(np.delete(ind_train,range(n_test*i,n_test*(i+1))))\n",
    "            ind_test = indices[n_test*i:n_test*(i+1)]\n",
    "            \n",
    "        # training and test set\n",
    "        Xtrain = X[ind_train,:].copy()\n",
    "        Ytrain = Y[ind_train,:].copy()\n",
    "        Xtest = X[ind_test,:].copy()\n",
    "        Ytest = Y[ind_test,:].copy()\n",
    "        Ltrain = L[ind_train,:].copy()  \n",
    "        Ltest = L[ind_test,:].copy()\n",
    "        kappa = np.zeros(len(lambdas))\n",
    "        for j,lam in enumerate(lambdas):\n",
    "            Sacc_out = ueye.functions.EM_saccade_detection(Xtrain,Ytrain,lambda_param=lam,\n",
    "                                                          min_sacc_dist=min_sacc_dist,min_sacc_dur=min_sacc_dur,\n",
    "                                                           sampfreq=sampfreq)\n",
    "            kappa[j] = ueye.functions.binary_cohens_kappa(Ltrain.astype(float).flatten(),Sacc_out.astype(float).flatten())\n",
    "\n",
    "        best_lam = lambdas[np.argmax(kappa)]\n",
    "        print('best lambda:',best_lam)\n",
    "        \n",
    "        # TEST\n",
    "        Sacc_out = ueye.functions.EM_saccade_detection(Xtest,Ytest,lambda_param=best_lam,\n",
    "                                                      min_sacc_dist=5,min_sacc_dur=6,\n",
    "                                                           sampfreq=sampfreq)\n",
    "    \n",
    "        Kappa[i] = ueye.functions.binary_cohens_kappa(Ltest.astype(float).flatten(),Sacc_out.astype(float).flatten()) \n",
    "        true_pos,false_pos,false_neg,on_distance,off_distance = ueye.functions.accuracy(Sacc_out.astype(float),Ltest.astype(float))\n",
    "        F1[i] = (2 * true_pos)/(2 * true_pos + false_neg + false_pos)   \n",
    "        On.append(on_distance)\n",
    "        Off.append(off_distance)\n",
    "    Performance = {\n",
    "        'kappa': Kappa,\n",
    "        'f1': F1,\n",
    "        'on': On,\n",
    "        'off': Off\n",
    "        }\n",
    "    np.save('summary/crossvalidation/em_'+dset,Performance)\n",
    "        \n"
   ]
  }
 ],
 "metadata": {
  "kernelspec": {
   "display_name": "Python 3",
   "language": "python",
   "name": "python3"
  },
  "language_info": {
   "codemirror_mode": {
    "name": "ipython",
    "version": 3
   },
   "file_extension": ".py",
   "mimetype": "text/x-python",
   "name": "python",
   "nbconvert_exporter": "python",
   "pygments_lexer": "ipython3",
   "version": "3.6.5"
  }
 },
 "nbformat": 4,
 "nbformat_minor": 2
}
